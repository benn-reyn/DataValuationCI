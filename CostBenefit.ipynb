=MIN(15,
  /* Industry (0–3) */
  IF(OR(ISNUMBER(SEARCH("auto",A2)),ISNUMBER(SEARCH("manufactur",A2)),ISNUMBER(SEARCH("industrial",A2)),ISNUMBER(SEARCH("robot",A2))),3,
     IF(OR(ISNUMBER(SEARCH("mobility",A2)),ISNUMBER(SEARCH("logistic",A2)),ISNUMBER(SEARCH("supplier",A2))),1.5,0))
  +
  /* Geography (0–2) */
  IF(OR(ISNUMBER(SEARCH("germany",B2)),ISNUMBER(SEARCH("eu",B2)),ISNUMBER(SEARCH("europe",B2)),
        ISNUMBER(SEARCH("united states",B2)),ISNUMBER(SEARCH("us",B2)),ISNUMBER(SEARCH("uk",B2))),2, IF(B2<>"",1,0))
  +
  /* Data type (0–3 cap) — PII + Ops/IP */
  MIN(3,
    IF(OR(ISNUMBER(SEARCH("ip",C2)),ISNUMBER(SEARCH("trade secret",C2)),ISNUMBER(SEARCH("cad",C2)),
          ISNUMBER(SEARCH("process",C2)),ISNUMBER(SEARCH("oee",C2)),ISNUMBER(SEARCH("telemetry",C2)),
          ISNUMBER(SEARCH("production",C2)),ISNUMBER(SEARCH("supplier",C2))),3,0)
    +
    IF(OR(ISNUMBER(SEARCH("pii",C2)),ISNUMBER(SEARCH("personal",C2)),ISNUMBER(SEARCH("employee",C2)),
          ISNUMBER(SEARCH("customer",C2)),ISNUMBER(SEARCH("credential",C2)),ISNUMBER(SEARCH("email",C2))),1,0)
  )
  +
  /* Scale (0–2) */
  IFERROR(IF(VALUE(SUBSTITUTE(D2,",",""))>=1000000,2, IF(VALUE(SUBSTITUTE(D2,",",""))>=100000,1.2,0)),0)
  +
  /* Regulatory (0–2.5) */
  IF(OR(ISNUMBER(SEARCH("gdpr",E2)),ISNUMBER(SEARCH("ico",E2)),ISNUMBER(SEARCH("cnil",E2)),
        ISNUMBER(SEARCH("ftc",E2)),ISNUMBER(SEARCH("ccpa",E2)),ISNUMBER(SEARCH("edpb",E2)),ISNUMBER(SEARCH("bsi",E2))),2.5,
     IF(E2<>"",1,0))
  +
  /* Recency (0–1.5) */
  IFERROR(IF(VALUE(LEFT(F2,4))>=2023,1.5, IF(VALUE(LEFT(F2,4))>=2020,0.9,0)),0)
  +
  /* Outcome amount (0–2) */
  IFERROR(IF(VALUE(SUBSTITUTE(SUBSTITUTE(G2,"$",""),",",""))>=10000000,2,
            IF(VALUE(SUBSTITUTE(SUBSTITUTE(G2,"$",""),",",""))>=1000000,1.2,0)),0)
)
